{
 "cells": [
  {
   "cell_type": "markdown",
   "metadata": {},
   "source": [
    "This ipynb file serves as the code base for the contiuous optimization project. It was written by Mirjam Brunner and Pascal Kunz.\n",
    "We first start with datacleaning of the a9a and ijcnn datasets."
   ]
  },
  {
   "cell_type": "code",
   "execution_count": 1,
   "metadata": {
    "vscode": {
     "languageId": "plaintext"
    }
   },
   "outputs": [],
   "source": [
    "import numpy as np\n",
    "\n",
    "\n",
    "def process_data_a9a(file_path):\n",
    "    data = []\n",
    "    with open(file_path, 'r') as file:\n",
    "        for line in file:\n",
    "            line = line.strip()\n",
    "            # Split the line by whitespace\n",
    "            elements = line.split()\n",
    "            try:\n",
    "                label = int(elements[0])\n",
    "            except:\n",
    "                continue\n",
    "            features = [int(feature.split(':')[0]) for feature in elements[1:]]\n",
    "            #For some reason, the number of features is not consistent...\n",
    "            if len(features) != 14:\n",
    "                continue\n",
    "            data.append([label] + features)\n",
    "    return data\n",
    "\n",
    "def process_data_ijcnn(file_path):\n",
    "    data = []\n",
    "    with open(file_path, 'r') as file:\n",
    "        for line in file:\n",
    "            line = line.strip()\n",
    "            # Split the line by whitespace\n",
    "            elements = line.split()\n",
    "            try:\n",
    "                label = int(elements[0])\n",
    "            except:\n",
    "                continue\n",
    "            features = [float(feature.split(':')[1]) for feature in elements[2:]]\n",
    "            #For some reason, the number of features is not consistent...\n",
    "            data.append([label] + features)\n",
    "    return data\n"
   ]
  }
 ],
 "metadata": {
  "kernelspec": {
   "display_name": "Python 3 (ipykernel)",
   "language": "python",
   "name": "python3"
  },
  "language_info": {
   "codemirror_mode": {
    "name": "ipython",
    "version": 3
   },
   "file_extension": ".py",
   "mimetype": "text/x-python",
   "name": "python",
   "nbconvert_exporter": "python",
   "pygments_lexer": "ipython3",
   "version": "3.10.6"
  }
 },
 "nbformat": 4,
 "nbformat_minor": 2
}
